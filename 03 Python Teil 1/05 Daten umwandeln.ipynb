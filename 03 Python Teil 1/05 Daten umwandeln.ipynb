{
 "cells": [
  {
   "cell_type": "markdown",
   "metadata": {},
   "source": [
    "# Daten umwandeln - Strings und Zahlen\n",
    "Daten umzuwandeln ist wahrscheinlich, das was du am meisten machen wirst. Deshalb ist es praktisch es schon jetzt kennen zu lernen. "
   ]
  },
  {
   "cell_type": "markdown",
   "metadata": {},
   "source": [
    "### Einen String in eine Zahl umwandeln\n",
    "Dazu wenden wir den **int()**-Befehl auf einen String (direkt oder in einer Variable gespeichert) an: **int(string)**\n",
    "\n",
    "int steht für Integer, den englischen Begriff für Ganzzahl."
   ]
  },
  {
   "cell_type": "code",
   "execution_count": 5,
   "metadata": {},
   "outputs": [
    {
     "name": "stdout",
     "output_type": "stream",
     "text": [
      "11\n"
     ]
    }
   ],
   "source": [
    "a = \"5\"\n",
    "b = \"6\"\n",
    "\n",
    "print(int(a) + int(b))\n"
   ]
  },
  {
   "cell_type": "markdown",
   "metadata": {},
   "source": [
    "### Einen String in eine Kommazahl umwandeln\n",
    "Dazu wenden wir den **float()**-Befehl auf einen String (direkt oder in einer Variable gespeichert) an: **float(string)** \n",
    " \n",
    " \n",
    "Der Name float kommt daher, dass man Kommazahlen auch Fließkommazahlen nennt."
   ]
  },
  {
   "cell_type": "code",
   "execution_count": 1,
   "metadata": {},
   "outputs": [
    {
     "name": "stdout",
     "output_type": "stream",
     "text": [
      "12.1\n"
     ]
    }
   ],
   "source": [
    "a = \"5.5\"\n",
    "b = \"6.6\"\n",
    "\n",
    "print(float(a) + float(b))"
   ]
  },
  {
   "cell_type": "markdown",
   "metadata": {},
   "source": [
    "### Eine Zahl in einen String umwandeln\n",
    "Dazu wenden wir den **str()**-Befehl auf eine Ganzzahl oder Kommazahl an (direkt oder in einer Variable gespeichert): **str(zahl)**"
   ]
  },
  {
   "cell_type": "code",
   "execution_count": 3,
   "metadata": {},
   "outputs": [
    {
     "name": "stdout",
     "output_type": "stream",
     "text": [
      "Ich bin 21 Jahre alt\n"
     ]
    }
   ],
   "source": [
    "age = 21\n",
    "print(\"Ich bin \" + str(age) + \" Jahre alt\")"
   ]
  },
  {
   "cell_type": "markdown",
   "metadata": {},
   "source": [
    "## Übung\n",
    "\n",
    "- Speichere  die Zahl PI mit 4 Nachkommastellen in der Variable a. \n",
    "- Multipliziere sie mit 2. \n",
    "- Wandle die Zahl in einen String um und gebe sie aus als Satz: \"Das doppelter der Zahl Pi ist: a\"\n",
    "\n"
   ]
  },
  {
   "cell_type": "code",
   "execution_count": 10,
   "metadata": {},
   "outputs": [
    {
     "name": "stdout",
     "output_type": "stream",
     "text": [
      "Das doppelte der Zahl Pi ist: 6.2832\n"
     ]
    }
   ],
   "source": [
    "import math\n",
    "a = math.pi\n",
    "a = round(a,4)\n",
    "a = a * 2\n",
    "print(\"Das doppelte der Zahl Pi ist: \"+str(a))"
   ]
  },
  {
   "cell_type": "markdown",
   "metadata": {},
   "source": [
    "# Daten umwandeln - Listen und Strings\n",
    "Wir können mit Python Elemente zu einer Liste zusammenfügen oder eine Liste in einzelne Elemente zerlegen."
   ]
  },
  {
   "cell_type": "markdown",
   "metadata": {},
   "source": [
    "### Strings aus einer Liste zu einem String zusammenfügen\n",
    "\n",
    "Mit dem  **join()**-Befehl, der auf einen String angewendet wird, verbinden wir die Strings aus einer Liste zu einem neuen String: **string.join(liste)**\n",
    "\n",
    "Der String, auf den join() angewendet wird, bildet dabei die Nahtstelle: Dieser String wird als Verbindung zwischen den einzelnen Listenelementen im neuen String gesetzt."
   ]
  },
  {
   "cell_type": "code",
   "execution_count": 1,
   "metadata": {
    "scrolled": true
   },
   "outputs": [
    {
     "name": "stdout",
     "output_type": "stream",
     "text": [
      "Max, Monika, Erik, Franziska\n"
     ]
    }
   ],
   "source": [
    "students = [\"Max\", \"Monika\", \"Erik\", \"Franziska\"]\n",
    "print(\", \".join(students))"
   ]
  },
  {
   "cell_type": "code",
   "execution_count": 2,
   "metadata": {},
   "outputs": [
    {
     "name": "stdout",
     "output_type": "stream",
     "text": [
      "An unserer Uni studieren: Max, Monika, Erik, Franziska\n"
     ]
    }
   ],
   "source": [
    "    students_as_string = \", \".join(students)\n",
    "print(\"An unserer Uni studieren: \" + students_as_string)"
   ]
  },
  {
   "cell_type": "code",
   "execution_count": 3,
   "metadata": {},
   "outputs": [
    {
     "name": "stdout",
     "output_type": "stream",
     "text": [
      "Max - Monika - Erik - Franziska\n"
     ]
    }
   ],
   "source": [
    "students = [\"Max\", \"Monika\", \"Erik\", \"Franziska\"]\n",
    "print(\" - \".join(students))"
   ]
  },
  {
   "cell_type": "code",
   "execution_count": 13,
   "metadata": {},
   "outputs": [
    {
     "name": "stdout",
     "output_type": "stream",
     "text": [
      "Unsere Biere sind: Rotes, Grünes, Blaues, Schwarzes\n"
     ]
    }
   ],
   "source": [
    "biere =[\"Rotes\", \"Grünes\", \"Blaues\", \"Schwarzes\"]\n",
    "bierliste = \", \".join(biere)\n",
    "print (\"Unsere Biere sind: \"+str(bierliste))"
   ]
  },
  {
   "cell_type": "code",
   "execution_count": 19,
   "metadata": {},
   "outputs": [
    {
     "name": "stdout",
     "output_type": "stream",
     "text": [
      "['Rotes', 'Grünes', 'Blaues', 'Schwarzes']\n",
      "4\n"
     ]
    }
   ],
   "source": [
    "#Bierliste wieder auftrennen\n",
    "neue_bierliste = bierliste.split(\", \")\n",
    "print (neue_bierliste)\n",
    "print(len(neue_bierliste))"
   ]
  },
  {
   "cell_type": "markdown",
   "metadata": {},
   "source": [
    "### Einen String in eine Liste aufspalten\n",
    "\n",
    "Mit dem **split()**-Befehl, der auf einen String angewendet wird, wird dieser String an seinen Leerzeichen aufgespalten und die daraus resultierenden Einzelstrings in einer Liste gespeichert: **string.split()**"
   ]
  },
  {
   "cell_type": "code",
   "execution_count": 4,
   "metadata": {},
   "outputs": [],
   "source": [
    "i = \"Max, Monika, Erik, Franziska\""
   ]
  },
  {
   "cell_type": "code",
   "execution_count": 5,
   "metadata": {
    "scrolled": true
   },
   "outputs": [
    {
     "name": "stdout",
     "output_type": "stream",
     "text": [
      "['Max,', 'Monika,', 'Erik,', 'Franziska']\n"
     ]
    }
   ],
   "source": [
    "print(i.split())"
   ]
  },
  {
   "cell_type": "markdown",
   "metadata": {},
   "source": [
    "Wir können sogar noch genauer festlegen, an welchen Stellen der String von split() aufgespaltet werden soll."
   ]
  },
  {
   "cell_type": "code",
   "execution_count": 6,
   "metadata": {
    "scrolled": true
   },
   "outputs": [
    {
     "name": "stdout",
     "output_type": "stream",
     "text": [
      "['Max', 'Monika', 'Erik', 'Franziska']\n"
     ]
    }
   ],
   "source": [
    "print(i.split(\", \"))"
   ]
  },
  {
   "cell_type": "code",
   "execution_count": 7,
   "metadata": {},
   "outputs": [
    {
     "name": "stdout",
     "output_type": "stream",
     "text": [
      "['M', 'x, Monik', ', Erik, Fr', 'nzisk', '']\n"
     ]
    }
   ],
   "source": [
    "print(i.split(\"a\"))"
   ]
  },
  {
   "cell_type": "markdown",
   "metadata": {},
   "source": [
    "Insbesondere können wir auch mehrere der Befehle, die wir schon kennen gelernt haben, miteinander kombinieren:"
   ]
  },
  {
   "cell_type": "code",
   "execution_count": 8,
   "metadata": {},
   "outputs": [
    {
     "name": "stdout",
     "output_type": "stream",
     "text": [
      "7\n"
     ]
    }
   ],
   "source": [
    "# Hier zählen wir die Anzahl der Wörter des Satzes s\n",
    "\n",
    "s = \"Ich bin ein Satz mit vielen Wörtern\"\n",
    "print(len(s.split()))"
   ]
  },
  {
   "cell_type": "code",
   "execution_count": 22,
   "metadata": {},
   "outputs": [
    {
     "name": "stdout",
     "output_type": "stream",
     "text": [
      "['Vorgesehen', 'ist,', 'dass', 'Kantone', 'und', 'nahestehende', 'Organisationen', 'bis', 'am', '24.', 'Oktober', '2018', 'entsprechende', 'Kandidaten', 'nominieren.', 'Am', '16.', 'November', 'wählt', 'dann', 'die', 'FDP-Fraktion', 'die', 'besten', 'Kandidaten', 'für', 'das', 'offizielle', 'Bundesrats-Ticket', 'aus.', '«FDP', 'hat', 'bisher', 'auch', 'immer', 'Frauen', 'portiert»', '«Das', 'Ticket', 'zu', 'bestimmen,', 'ist', 'schlussendlich', 'Sache', 'der', 'Fraktion»,', 'sagt', 'Gössi', 'auf', 'die', 'Frage', 'eines', 'Journalisten.', 'Wie', 'das', 'Kandidatenfeld', 'aussehe,', 'sähen', 'sie', 'am', 'am', '24.', 'Oktober.', 'In', 'Bezug', 'auf', 'ein', 'Frauenticket', 'sagte', 'sie:', '«Die', 'FDP', 'Schweiz', 'hat', 'bisher', 'auch', 'immer', 'Frauen', 'portiert.»', 'Es', 'sei', 'nicht', 'die', 'FDP', 'Schweiz', 'gewesen,', 'die', 'diese', 'Frauen', 'nicht', 'gewählt', 'habe.', '«Es', 'waren', 'bisher', 'die', 'anderen', 'Fraktionen,', 'die', 'unsere', 'Kandidatinnen', 'nicht', 'gewählt', 'haben.»', 'Sie', 'persönlich', 'würde', 'es', 'gut', 'finden,', 'wenn', 'die', 'FDP', 'eine', 'Frau', 'aufstellen', 'würde,', 'sagt', 'sie', 'im', 'Anschluss', 'an', 'die', 'Konferenz', 'in', 'Medien-Interviews.', 'Aber', 'das', 'Rennen', 'sei', 'offen.', 'Auf', 'die', 'Frage', 'eines', 'Journalisten,', 'ob', 'FDP-Ständerätin', 'Karin', 'Keller-Sutter', 'zur', 'Verfügung', 'stehe,', 'antwortete', 'sie:', '«Rein', 'vom', 'Profil', 'her', 'hat', 'sie', 'die', 'besten', 'Voraussetzungen.', 'Sie', 'wäre', 'eine', 'hervorragende', 'Kandidatin.', 'Ob', 'sie', 'den', 'Schritt', 'machen', 'wolle,', 'müsse', 'Keller-Sutter', 'entscheiden.', 'Gössi', 'hofft,', 'dass', 'sich', 'möglichst', 'viele', 'Kandidaten', 'zu', 'einer', 'Kandidatur', 'durchringen.']\n"
     ]
    }
   ],
   "source": [
    "#Reinkopieren, zerlegen und Wörte zählen\n",
    "text = \"Vorgesehen ist, dass Kantone und nahestehende Organisationen bis am 24. Oktober 2018 entsprechende Kandidaten nominieren. Am 16. November wählt dann die FDP-Fraktion die besten Kandidaten für das offizielle Bundesrats-Ticket aus. «FDP hat bisher auch immer Frauen portiert» «Das Ticket zu bestimmen, ist schlussendlich Sache der Fraktion», sagt Gössi auf die Frage eines Journalisten. Wie das Kandidatenfeld aussehe, sähen sie am am 24. Oktober. In Bezug auf ein Frauenticket sagte sie: «Die FDP Schweiz hat bisher auch immer Frauen portiert.» Es sei nicht die FDP Schweiz gewesen, die diese Frauen nicht gewählt habe. «Es waren bisher die anderen Fraktionen, die unsere Kandidatinnen nicht gewählt haben.» Sie persönlich würde es gut finden, wenn die FDP eine Frau aufstellen würde, sagt sie im Anschluss an die Konferenz in Medien-Interviews. Aber das Rennen sei offen. Auf die Frage eines Journalisten, ob FDP-Ständerätin Karin Keller-Sutter zur Verfügung stehe, antwortete sie: «Rein vom Profil her hat sie die besten Voraussetzungen. Sie wäre eine hervorragende Kandidatin. Ob sie den Schritt machen wolle, müsse Keller-Sutter entscheiden. Gössi hofft, dass sich möglichst viele Kandidaten zu einer Kandidatur durchringen.\"    \n",
    "wörter = text.split(\" \")\n",
    "print (wörter)"
   ]
  },
  {
   "cell_type": "code",
   "execution_count": 35,
   "metadata": {},
   "outputs": [
    {
     "name": "stdout",
     "output_type": "stream",
     "text": [
      "Der Artikel aus 20 Minuten hat 179 Wörter\n",
      "Der Artikel aus 20 Minuten hat 1227 Zeichen\n"
     ]
    }
   ],
   "source": [
    "len(wörter)\n",
    "print(\"Der Artikel aus 20 Minuten hat \"+str(len(wörter))+\" Wörter\")\n",
    "print(\"Der Artikel aus 20 Minuten hat \"+str(len(text))+\" Zeichen\")\n"
   ]
  },
  {
   "cell_type": "markdown",
   "metadata": {},
   "source": [
    "## Übung 2 \n",
    "\n",
    "- Lass dir vom Nachbarn seine Email geben. \n",
    "- Wenn die Mailadresse _Max-Mustermann@gmail.com_ lautet, sollst du _Max-Mustermann_ ausgeben; wenn die Mailadresse _KlaraKlarnamen@uni-berlin.de_ heisst, sollst du _KlaraKlarnamen_ ausgeben."
   ]
  },
  {
   "cell_type": "code",
   "execution_count": 39,
   "metadata": {},
   "outputs": [
    {
     "name": "stdout",
     "output_type": "stream",
     "text": [
      "Der User heisst: post\n"
     ]
    }
   ],
   "source": [
    "mail = \"post@michaelheim.com\"\n",
    "getrennt=mail.split(\"@\")\n",
    "#getrennt.pop()\n",
    "#print (getrennt)\n",
    "print (\"Der User heisst: \"+str(getrennt[0]))"
   ]
  },
  {
   "cell_type": "markdown",
   "metadata": {},
   "source": [
    "## Übung 3\n",
    "\n",
    "Aktuell legen alle Kunden (`mail1`, `mail2`, `mail3`) als separate Variable vor. Wir möchten daraus jetzt eine Liste bauen, sodass wir die Möglichkeit hätten, später noch weitere Kunden in diese Liste hinzuzufügen.\n",
    "\n",
    "Überführe deswegen die Kunden `mail1`, `mail2` und `mail3` in die Liste `clients` und lasse dir anschließend die Anzahl der Elemente der Liste `clients` mit Hilfe von Python ausgeben."
   ]
  },
  {
   "cell_type": "code",
   "execution_count": 50,
   "metadata": {},
   "outputs": [
    {
     "name": "stdout",
     "output_type": "stream",
     "text": [
      "Die Kundenliste hat 3 Elemente\n",
      "Die Hübis heissen zarah, thomas und uwe\n"
     ]
    }
   ],
   "source": [
    "mail1 = \"zarah.zauber@zauberberg.de\"\n",
    "mail2 = \"thomas.plotkowiak@gmail.com\"\n",
    "mail3 = \"uwe_unhold@dunklerwald.de\" \n",
    "\n",
    "clients = [mail1, mail2, mail3]\n",
    "print(\"Die Kundenliste hat \"+str(len (clients))+ \" Elemente\")\n",
    "\n",
    "client_namen_1 = mail1.split(\".\")\n",
    "client_vorname_1=client_namen_1[0]\n",
    "client_namen_2 = mail2.split(\".\")\n",
    "client_vorname_2=client_namen_2[0]\n",
    "client_namen_3 = mail3.split(\"_\")\n",
    "client_vorname_3=client_namen_3[0]\n",
    "client_namen = [client_vorname_1, client_vorname_2, client_vorname_3]\n",
    "#print (client_namen)\n",
    "print (\"Die Hübis heissen \"+str(client_vorname_1)+\", \"+str(client_vorname_2)+\" und \"+str(client_vorname_3))\n"
   ]
  },
  {
   "cell_type": "code",
   "execution_count": null,
   "metadata": {},
   "outputs": [],
   "source": []
  }
 ],
 "metadata": {
  "kernelspec": {
   "display_name": "Python 3",
   "language": "python",
   "name": "python3"
  },
  "language_info": {
   "codemirror_mode": {
    "name": "ipython",
    "version": 3
   },
   "file_extension": ".py",
   "mimetype": "text/x-python",
   "name": "python",
   "nbconvert_exporter": "python",
   "pygments_lexer": "ipython3",
   "version": "3.6.5"
  }
 },
 "nbformat": 4,
 "nbformat_minor": 2
}
